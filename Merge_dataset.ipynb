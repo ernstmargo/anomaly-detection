{
  "nbformat": 4,
  "nbformat_minor": 0,
  "metadata": {
    "accelerator": "TPU",
    "colab": {
      "name": "Merge_dataset",
      "provenance": [],
      "collapsed_sections": [],
      "machine_shape": "hm",
      "toc_visible": true,
      "mount_file_id": "1vDVwDY7T7N6ITkUWAyhWWanUQDC4Cehi",
      "authorship_tag": "ABX9TyP9TmwNGA+8Jj4ZEsf29wBl",
      "include_colab_link": true
    },
    "kernelspec": {
      "display_name": "Python 3",
      "name": "python3"
    },
    "language_info": {
      "name": "python"
    }
  },
  "cells": [
    {
      "cell_type": "markdown",
      "metadata": {
        "id": "view-in-github",
        "colab_type": "text"
      },
      "source": [
        "<a href=\"https://colab.research.google.com/github/ernstmargo/anomaly-detection/blob/main/Merge_dataset.ipynb\" target=\"_parent\"><img src=\"https://colab.research.google.com/assets/colab-badge.svg\" alt=\"Open In Colab\"/></a>"
      ]
    },
    {
      "cell_type": "code",
      "metadata": {
        "id": "kupU3tnmTlNN"
      },
      "source": [
        "import pandas as pd\n",
        "from pandas import DataFrame"
      ],
      "execution_count": null,
      "outputs": []
    },
    {
      "cell_type": "code",
      "metadata": {
        "colab": {
          "base_uri": "https://localhost:8080/"
        },
        "id": "a-oddPZvNOGT",
        "outputId": "9dc272e9-a412-43b0-b820-e8b719ddc2ce"
      },
      "source": [
        "df_m=pd.read_csv('/content/drive/MyDrive/Dataset/Monday-WorkingHours.pcap_ISCX.csv')\n",
        "df_tu=pd.read_csv('/content/drive/MyDrive/Dataset/Tuesday-WorkingHours.pcap_ISCX.csv')\n",
        "df_w=pd.read_csv('/content/drive/MyDrive/Dataset/Wednesday-workingHours.pcap_ISCX.csv')\n",
        "df_th1=pd.read_csv('/content/drive/MyDrive/Dataset/Thursday-WorkingHours-Morning-WebAttacks.pcap_ISCX.csv',encoding='cp1252')\n",
        "df_th2=pd.read_csv('/content/drive/MyDrive/Dataset/Thursday-WorkingHours-Afternoon-Infilteration.pcap_ISCX.csv')\n",
        "df_f1 = pd.read_csv('/content/drive/MyDrive/Dataset/Friday-WorkingHours-Morning.pcap_ISCX.csv')\n",
        "df_f2 = pd.read_csv('/content/drive/MyDrive/Dataset/Friday-WorkingHours-Afternoon-PortScan.pcap_ISCX.csv')\n",
        "df_f3 = pd.read_csv('/content/drive/MyDrive/Dataset/Friday-WorkingHours-Afternoon-DDos.pcap_ISCX.csv')\n",
        "frames=[df_m, df_tu, df_w, df_th1, df_th2, df_f1, df_f2, df_f3]\n",
        "result = pd.concat(frames)\n",
        "\n",
        "result.to_csv('/content/drive/MyDrive/Dataset/full_dataset', encoding='utf-8', index=False)"
      ],
      "execution_count": null,
      "outputs": [
        {
          "output_type": "stream",
          "name": "stderr",
          "text": [
            "/usr/local/lib/python3.7/dist-packages/IPython/core/interactiveshell.py:2718: DtypeWarning: Columns (0,1,3,6,84) have mixed types.Specify dtype option on import or set low_memory=False.\n",
            "  interactivity=interactivity, compiler=compiler, result=result)\n"
          ]
        }
      ]
    }
  ]
}